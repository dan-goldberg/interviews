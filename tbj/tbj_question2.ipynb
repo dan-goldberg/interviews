{
 "cells": [
  {
   "cell_type": "markdown",
   "metadata": {},
   "source": [
    "Catcher Framing References\n",
    "\n",
    "[1] https://www.baseballprospectus.com/news/article/25514/moving-beyond-wowy-a-mixed-approach-to-measuring-catcher-framing/\n",
    "[2] https://www.fangraphs.com/blogs/pitch-framing-data-is-going-insane/\n",
    "\n",
    "The gold-standard BP model \"CSAA\" (Called Strikes Above Average) is outlined in [1]. This is a mixed effects model which uses modelled called strike probability (cs_prob) and half-innging (half) as fixed effects, while adjusting for catcher, pitcher, umpire, batter, and catcher:cs_prob interaction as the random effects. The random effects are modelled as such because they are assumed to be dependent - the impact of the individual catcher is modulated by the pitcher, umpire, batter, and cs_prob, and the other individual impact of each variable is modulated by the other random effects variables in the same way. These random effects have are assumed to have a linear contribution to the likelihood of a strike. \n",
    "\n"
   ]
  },
  {
   "cell_type": "code",
   "execution_count": 1,
   "metadata": {},
   "outputs": [
    {
     "data": {
      "text/plain": [
       "2915"
      ]
     },
     "execution_count": 1,
     "metadata": {},
     "output_type": "execute_result"
    }
   ],
   "source": [
    "import pandas as pd\n",
    "import numpy as np\n",
    "from matplotlib import pyplot as plt\n",
    "import seaborn as sns\n",
    "import copy\n",
    "import tensorflow as tf\n",
    "from tensorflow import keras\n",
    "from sklearn import preprocessing\n",
    "from sklearn.model_selection import train_test_split\n",
    "from sklearn import svm, ensemble\n",
    "\n",
    "np.random.seed(5)\n",
    "random_seed = np.random.randint(0,10000)\n",
    "random_seed"
   ]
  },
  {
   "cell_type": "code",
   "execution_count": 2,
   "metadata": {},
   "outputs": [],
   "source": [
    "filepath = '/Users/dangoldberg/Desktop/DataScienceInterviewProjects/Toronto Blue Jays/catcherframe.csv'"
   ]
  },
  {
   "cell_type": "code",
   "execution_count": 3,
   "metadata": {},
   "outputs": [],
   "source": [
    "df = pd.read_csv(filepath)"
   ]
  },
  {
   "cell_type": "code",
   "execution_count": 4,
   "metadata": {},
   "outputs": [
    {
     "data": {
      "text/plain": [
       "Index(['parkid', 'bluejaysgameid', 'gamepitchsequence', 'half', 'balls',\n",
       "       'strikes', 'pitcherid', 'pitcherhand', 'batterid', 'batside',\n",
       "       'catcherid', 'pitchtype', 'relspeed', 'hbreak', 'vbreak', 'plate_x',\n",
       "       'plate_z', 'calledstrike', 'ball', 'swings', 'takes', 'pitchout',\n",
       "       'intentball', 'inplay', 'pitcheventtype', 'hbp', 'ump_hp'],\n",
       "      dtype='object')"
      ]
     },
     "execution_count": 4,
     "metadata": {},
     "output_type": "execute_result"
    }
   ],
   "source": [
    "df.columns"
   ]
  },
  {
   "cell_type": "code",
   "execution_count": 5,
   "metadata": {},
   "outputs": [
    {
     "name": "stdout",
     "output_type": "stream",
     "text": [
      "<class 'pandas.core.frame.DataFrame'>\n",
      "RangeIndex: 342506 entries, 0 to 342505\n",
      "Data columns (total 27 columns):\n",
      "parkid               342506 non-null int64\n",
      "bluejaysgameid       342506 non-null object\n",
      "gamepitchsequence    342506 non-null int64\n",
      "half                 342506 non-null int64\n",
      "balls                342506 non-null int64\n",
      "strikes              342506 non-null int64\n",
      "pitcherid            342506 non-null int64\n",
      "pitcherhand          342506 non-null object\n",
      "batterid             342506 non-null int64\n",
      "batside              342506 non-null object\n",
      "catcherid            342506 non-null int64\n",
      "pitchtype            342506 non-null object\n",
      "relspeed             342506 non-null float64\n",
      "hbreak               342506 non-null float64\n",
      "vbreak               342506 non-null float64\n",
      "plate_x              342506 non-null float64\n",
      "plate_z              342506 non-null float64\n",
      "calledstrike         342506 non-null int64\n",
      "ball                 342506 non-null int64\n",
      "swings               342506 non-null int64\n",
      "takes                342506 non-null int64\n",
      "pitchout             342506 non-null int64\n",
      "intentball           342506 non-null int64\n",
      "inplay               342506 non-null int64\n",
      "pitcheventtype       342506 non-null object\n",
      "hbp                  342506 non-null int64\n",
      "ump_hp               296383 non-null float64\n",
      "dtypes: float64(6), int64(16), object(5)\n",
      "memory usage: 70.6+ MB\n"
     ]
    }
   ],
   "source": [
    "df.info()"
   ]
  },
  {
   "cell_type": "code",
   "execution_count": 6,
   "metadata": {},
   "outputs": [],
   "source": [
    "\n",
    "# impute missing ump ids as -1\n",
    "df['ump_hp'] = df['ump_hp'].replace(np.nan, -1).astype(str)"
   ]
  },
  {
   "cell_type": "code",
   "execution_count": 81,
   "metadata": {},
   "outputs": [],
   "source": [
    "# only look at called strikes for framing\n",
    "\n",
    "data = df[(df['swings'] == 0) & (df['intentball'] == 0)]"
   ]
  },
  {
   "cell_type": "code",
   "execution_count": 82,
   "metadata": {},
   "outputs": [
    {
     "name": "stderr",
     "output_type": "stream",
     "text": [
      "/Users/dangoldberg/miniconda3/envs/tbj/lib/python3.6/site-packages/pandas/core/frame.py:3697: SettingWithCopyWarning: \n",
      "A value is trying to be set on a copy of a slice from a DataFrame\n",
      "\n",
      "See the caveats in the documentation: http://pandas.pydata.org/pandas-docs/stable/indexing.html#indexing-view-versus-copy\n",
      "  errors=errors)\n"
     ]
    },
    {
     "name": "stdout",
     "output_type": "stream",
     "text": [
      "(182944, 93) (182944,)\n"
     ]
    }
   ],
   "source": [
    "#feature engineering\n",
    "\n",
    "base_columns = [\n",
    "    'strikes',\n",
    "    'balls',\n",
    "    'batside',\n",
    "    'pitchtype',\n",
    "    'ump_hp',\n",
    "    'relspeed',\n",
    "    'plate_x',\n",
    "    'plate_z',\n",
    "    'hbreak',\n",
    "    'vbreak'\n",
    "]\n",
    "\n",
    "categoricals = [\n",
    "    'count_state',\n",
    "    'batside',\n",
    "    'pitchtype',\n",
    "    'pitcherhand',\n",
    "    'ump_hp'\n",
    "]\n",
    "\n",
    "continuous = [\n",
    "    'relspeed',\n",
    "    'plate_x',\n",
    "    'plate_z',\n",
    "    'hbreak',\n",
    "    'vbreak'\n",
    "]\n",
    "\n",
    "labels = data['calledstrike']\n",
    "data.drop('calledstrike', axis=1, inplace=True)\n",
    "data = data[base_columns]\n",
    "\n",
    "data['count_state'] = data.apply(lambda df: str(df['balls']) + str(df['strikes']), axis=1)\n",
    "\n",
    "\n",
    "# one-hot-encoding of count state\n",
    "# one-hot-encoding of pitcherhand\n",
    "# one-hot-encoding of batside\n",
    "# one-hot-encoding of pitchtype\n",
    "# one-hot-encoding of ump\n",
    "\n",
    "one_hot_encoder = preprocessing.OneHotEncoder(sparse=False).fit(data[categoricals])\n",
    "cat_df = pd.DataFrame(one_hot_encoder.transform(data[categoricals]))\n",
    "cat_df.columns = one_hot_encoder.get_feature_names(categoricals)\n",
    "data = data.reset_index(drop=True).merge(cat_df, how='inner', left_index=True, right_index=True)\n",
    "labels = labels.reset_index(drop=True)\n",
    "data.drop(categoricals, axis=1, inplace=True)\n",
    "\n",
    "print(data.shape, labels.shape)"
   ]
  },
  {
   "cell_type": "code",
   "execution_count": null,
   "metadata": {},
   "outputs": [],
   "source": []
  },
  {
   "cell_type": "code",
   "execution_count": null,
   "metadata": {},
   "outputs": [],
   "source": []
  },
  {
   "cell_type": "code",
   "execution_count": null,
   "metadata": {},
   "outputs": [],
   "source": []
  },
  {
   "cell_type": "code",
   "execution_count": null,
   "metadata": {},
   "outputs": [],
   "source": []
  },
  {
   "cell_type": "code",
   "execution_count": null,
   "metadata": {},
   "outputs": [],
   "source": []
  },
  {
   "cell_type": "code",
   "execution_count": null,
   "metadata": {},
   "outputs": [],
   "source": []
  },
  {
   "cell_type": "code",
   "execution_count": null,
   "metadata": {},
   "outputs": [],
   "source": []
  },
  {
   "cell_type": "markdown",
   "metadata": {},
   "source": [
    "# Try some simple models"
   ]
  },
  {
   "cell_type": "code",
   "execution_count": 85,
   "metadata": {},
   "outputs": [],
   "source": [
    "def train_and_score_classifier(clf, data, lables, frac=1.0):\n",
    "    # train-test split\n",
    "    X_train, X_test, y_train, y_test = train_test_split(data, labels, test_size=0.16, random_state=random_seed)\n",
    "\n",
    "    # standard-scale continuous variables\n",
    "    scaler = preprocessing.StandardScaler().fit(X_train[continuous])\n",
    "    X_train, X_test = preprocess_after_split(X_train,scaler), preprocess_after_split(X_test,scaler)\n",
    "\n",
    "    # use smaller dataset to test iteration\n",
    "    X_train, y_train = use_train_subset(X_train, y_train, frac=frac)\n",
    "    \n",
    "    # train model\n",
    "    clf.fit(X_train, y_train)\n",
    "    return clf.score(X_train, y_train), clf.score(X_test,y_test), clf, scaler\n",
    "    \n",
    "def preprocess_after_split(X, scaler):\n",
    "    X.loc[:,continuous] = scaler.transform(X[continuous])\n",
    "    return X\n",
    "\n",
    "def use_train_subset(X, y, frac):\n",
    "    sample_index = X.sample(frac=frac).index\n",
    "    X = X.loc[sample_index]\n",
    "    y = y.loc[sample_index]\n",
    "    return X, y\n",
    "\n"
   ]
  },
  {
   "cell_type": "code",
   "execution_count": 17,
   "metadata": {},
   "outputs": [],
   "source": [
    "models = {}"
   ]
  },
  {
   "cell_type": "markdown",
   "metadata": {},
   "source": [
    "RBF Support Vector Machine"
   ]
  },
  {
   "cell_type": "code",
   "execution_count": null,
   "metadata": {},
   "outputs": [],
   "source": []
  },
  {
   "cell_type": "code",
   "execution_count": 62,
   "metadata": {},
   "outputs": [
    {
     "ename": "SyntaxError",
     "evalue": "invalid syntax (<ipython-input-62-d167ef657006>, line 3)",
     "output_type": "error",
     "traceback": [
      "\u001b[0;36m  File \u001b[0;32m\"<ipython-input-62-d167ef657006>\"\u001b[0;36m, line \u001b[0;32m3\u001b[0m\n\u001b[0;31m    models = ['svc']:{}\u001b[0m\n\u001b[0m                    ^\u001b[0m\n\u001b[0;31mSyntaxError\u001b[0m\u001b[0;31m:\u001b[0m invalid syntax\n"
     ]
    }
   ],
   "source": [
    "c_params = np.logspace(-1, 2, 4)\n",
    "\n",
    "models = models['svc']:{}\n",
    "for c in c_params:\n",
    "    clf = svm.SVC(C=c)\n",
    "    train_score, test_score, clf, _ = train_and_score_classifier(clf, data, labels, frac=0.1)\n",
    "    models['svc'][c] = {'train_score':train_score, 'test_score':test_score, 'clf':clf}\n",
    "models"
   ]
  },
  {
   "cell_type": "code",
   "execution_count": null,
   "metadata": {},
   "outputs": [],
   "source": []
  },
  {
   "cell_type": "markdown",
   "metadata": {},
   "source": [
    "Random Forest"
   ]
  },
  {
   "cell_type": "code",
   "execution_count": 74,
   "metadata": {},
   "outputs": [
    {
     "name": "stderr",
     "output_type": "stream",
     "text": [
      "/Users/dangoldberg/miniconda3/envs/tbj/lib/python3.6/site-packages/pandas/core/indexing.py:543: SettingWithCopyWarning: \n",
      "A value is trying to be set on a copy of a slice from a DataFrame.\n",
      "Try using .loc[row_indexer,col_indexer] = value instead\n",
      "\n",
      "See the caveats in the documentation: http://pandas.pydata.org/pandas-docs/stable/indexing.html#indexing-view-versus-copy\n",
      "  self.obj[item] = s\n",
      "/Users/dangoldberg/miniconda3/envs/tbj/lib/python3.6/site-packages/pandas/core/indexing.py:543: SettingWithCopyWarning: \n",
      "A value is trying to be set on a copy of a slice from a DataFrame.\n",
      "Try using .loc[row_indexer,col_indexer] = value instead\n",
      "\n",
      "See the caveats in the documentation: http://pandas.pydata.org/pandas-docs/stable/indexing.html#indexing-view-versus-copy\n",
      "  self.obj[item] = s\n",
      "/Users/dangoldberg/miniconda3/envs/tbj/lib/python3.6/site-packages/pandas/core/indexing.py:543: SettingWithCopyWarning: \n",
      "A value is trying to be set on a copy of a slice from a DataFrame.\n",
      "Try using .loc[row_indexer,col_indexer] = value instead\n",
      "\n",
      "See the caveats in the documentation: http://pandas.pydata.org/pandas-docs/stable/indexing.html#indexing-view-versus-copy\n",
      "  self.obj[item] = s\n",
      "/Users/dangoldberg/miniconda3/envs/tbj/lib/python3.6/site-packages/pandas/core/indexing.py:543: SettingWithCopyWarning: \n",
      "A value is trying to be set on a copy of a slice from a DataFrame.\n",
      "Try using .loc[row_indexer,col_indexer] = value instead\n",
      "\n",
      "See the caveats in the documentation: http://pandas.pydata.org/pandas-docs/stable/indexing.html#indexing-view-versus-copy\n",
      "  self.obj[item] = s\n",
      "/Users/dangoldberg/miniconda3/envs/tbj/lib/python3.6/site-packages/pandas/core/indexing.py:543: SettingWithCopyWarning: \n",
      "A value is trying to be set on a copy of a slice from a DataFrame.\n",
      "Try using .loc[row_indexer,col_indexer] = value instead\n",
      "\n",
      "See the caveats in the documentation: http://pandas.pydata.org/pandas-docs/stable/indexing.html#indexing-view-versus-copy\n",
      "  self.obj[item] = s\n",
      "/Users/dangoldberg/miniconda3/envs/tbj/lib/python3.6/site-packages/pandas/core/indexing.py:543: SettingWithCopyWarning: \n",
      "A value is trying to be set on a copy of a slice from a DataFrame.\n",
      "Try using .loc[row_indexer,col_indexer] = value instead\n",
      "\n",
      "See the caveats in the documentation: http://pandas.pydata.org/pandas-docs/stable/indexing.html#indexing-view-versus-copy\n",
      "  self.obj[item] = s\n",
      "/Users/dangoldberg/miniconda3/envs/tbj/lib/python3.6/site-packages/pandas/core/indexing.py:543: SettingWithCopyWarning: \n",
      "A value is trying to be set on a copy of a slice from a DataFrame.\n",
      "Try using .loc[row_indexer,col_indexer] = value instead\n",
      "\n",
      "See the caveats in the documentation: http://pandas.pydata.org/pandas-docs/stable/indexing.html#indexing-view-versus-copy\n",
      "  self.obj[item] = s\n",
      "/Users/dangoldberg/miniconda3/envs/tbj/lib/python3.6/site-packages/pandas/core/indexing.py:543: SettingWithCopyWarning: \n",
      "A value is trying to be set on a copy of a slice from a DataFrame.\n",
      "Try using .loc[row_indexer,col_indexer] = value instead\n",
      "\n",
      "See the caveats in the documentation: http://pandas.pydata.org/pandas-docs/stable/indexing.html#indexing-view-versus-copy\n",
      "  self.obj[item] = s\n"
     ]
    },
    {
     "data": {
      "text/plain": [
       "{'rf': {10.0: {'train_score': 0.8567597412841143,\n",
       "   'test_score': 0.8526919923476359,\n",
       "   'clf': RandomForestClassifier(bootstrap=True, class_weight=None, criterion='gini',\n",
       "               max_depth=10.0, max_features='auto', max_leaf_nodes=None,\n",
       "               min_impurity_decrease=0.0, min_impurity_split=None,\n",
       "               min_samples_leaf=1, min_samples_split=2,\n",
       "               min_weight_fraction_leaf=0.0, n_estimators=100, n_jobs=None,\n",
       "               oob_score=False, random_state=None, verbose=0,\n",
       "               warm_start=False)},\n",
       "  100.0: {'train_score': 1.0,\n",
       "   'test_score': 0.904892047007379,\n",
       "   'clf': RandomForestClassifier(bootstrap=True, class_weight=None, criterion='gini',\n",
       "               max_depth=100.0, max_features='auto', max_leaf_nodes=None,\n",
       "               min_impurity_decrease=0.0, min_impurity_split=None,\n",
       "               min_samples_leaf=1, min_samples_split=2,\n",
       "               min_weight_fraction_leaf=0.0, n_estimators=100, n_jobs=None,\n",
       "               oob_score=False, random_state=None, verbose=0,\n",
       "               warm_start=False)},\n",
       "  1000.0: {'train_score': 1.0,\n",
       "   'test_score': 0.904687072970757,\n",
       "   'clf': RandomForestClassifier(bootstrap=True, class_weight=None, criterion='gini',\n",
       "               max_depth=1000.0, max_features='auto', max_leaf_nodes=None,\n",
       "               min_impurity_decrease=0.0, min_impurity_split=None,\n",
       "               min_samples_leaf=1, min_samples_split=2,\n",
       "               min_weight_fraction_leaf=0.0, n_estimators=100, n_jobs=None,\n",
       "               oob_score=False, random_state=None, verbose=0,\n",
       "               warm_start=False)},\n",
       "  10000.0: {'train_score': 1.0,\n",
       "   'test_score': 0.9055069691172452,\n",
       "   'clf': RandomForestClassifier(bootstrap=True, class_weight=None, criterion='gini',\n",
       "               max_depth=10000.0, max_features='auto', max_leaf_nodes=None,\n",
       "               min_impurity_decrease=0.0, min_impurity_split=None,\n",
       "               min_samples_leaf=1, min_samples_split=2,\n",
       "               min_weight_fraction_leaf=0.0, n_estimators=100, n_jobs=None,\n",
       "               oob_score=False, random_state=None, verbose=0,\n",
       "               warm_start=False)}}}"
      ]
     },
     "execution_count": 74,
     "metadata": {},
     "output_type": "execute_result"
    }
   ],
   "source": [
    "max_depth_params = np.logspace(1, 4, 4)\n",
    "\n",
    "models['rf'] = {}\n",
    "for max_depth in max_depth_params:\n",
    "    clf = ensemble.RandomForestClassifier(max_depth=max_depth, n_estimators=100)\n",
    "    train_score, test_score, clf, _ = train_and_score_classifier(clf, data, labels, frac=0.66)\n",
    "    models['rf'][max_depth] = {'train_score':train_score, 'test_score':test_score, 'clf':clf}\n",
    "\n",
    "models"
   ]
  },
  {
   "cell_type": "code",
   "execution_count": 84,
   "metadata": {},
   "outputs": [
    {
     "data": {
      "text/plain": [
       "0.9581073989854819"
      ]
     },
     "execution_count": 84,
     "metadata": {},
     "output_type": "execute_result"
    }
   ],
   "source": [
    "cal_data = data.copy()\n",
    "\n",
    "cal_data.loc[:,continuous] = preprocessing.StandardScaler().fit(cal_data[continuous]).transform(cal_data[continuous])\n",
    "models['rf'][100]['clf'].score(cal_data,labels)"
   ]
  },
  {
   "cell_type": "code",
   "execution_count": null,
   "metadata": {},
   "outputs": [],
   "source": []
  },
  {
   "cell_type": "code",
   "execution_count": 95,
   "metadata": {},
   "outputs": [],
   "source": [
    "from sklearn import calibration\n",
    "\n",
    "def plot_calibration_curve(labels, proba, n_bins=10):\n",
    "    prob_true, prob_pred = calibration.calibration_curve(labels, proba, normalize=False, n_bins=10)\n",
    "    plt.plot(prob_pred,prob_true)\n",
    "    #plt.hist(prob_pred, bins=10)\n",
    "    plt.show()"
   ]
  },
  {
   "cell_type": "code",
   "execution_count": 96,
   "metadata": {},
   "outputs": [
    {
     "name": "stderr",
     "output_type": "stream",
     "text": [
      "/Users/dangoldberg/miniconda3/envs/tbj/lib/python3.6/site-packages/pandas/core/indexing.py:543: SettingWithCopyWarning: \n",
      "A value is trying to be set on a copy of a slice from a DataFrame.\n",
      "Try using .loc[row_indexer,col_indexer] = value instead\n",
      "\n",
      "See the caveats in the documentation: http://pandas.pydata.org/pandas-docs/stable/indexing.html#indexing-view-versus-copy\n",
      "  self.obj[item] = s\n",
      "/Users/dangoldberg/miniconda3/envs/tbj/lib/python3.6/site-packages/pandas/core/indexing.py:543: SettingWithCopyWarning: \n",
      "A value is trying to be set on a copy of a slice from a DataFrame.\n",
      "Try using .loc[row_indexer,col_indexer] = value instead\n",
      "\n",
      "See the caveats in the documentation: http://pandas.pydata.org/pandas-docs/stable/indexing.html#indexing-view-versus-copy\n",
      "  self.obj[item] = s\n"
     ]
    },
    {
     "data": {
      "image/png": "[encoded data removed]",
      "text/plain": [
       "<Figure size 432x288 with 1 Axes>"
      ]
     },
     "metadata": {
      "needs_background": "light"
     },
     "output_type": "display_data"
    }
   ],
   "source": [
    "model = ensemble.RandomForestClassifier(max_depth=10, n_estimators=100)\n",
    "train_score, test_score, model, scaler = train_and_score_classifier(model, data, labels, frac=1.0)\n",
    "\n",
    "cal_data = data.copy()\n",
    "cal_data.loc[:,continuous] = preprocessing.StandardScaler().fit(cal_data[continuous]).transform(cal_data[continuous])\n",
    "\n",
    "proba = model.predict_proba(cal_data)[:,1]\n",
    "preds = model.predict(cal_data)\n",
    "plot_calibration_curve(labels, proba, n_bins=10)"
   ]
  },
  {
   "cell_type": "code",
   "execution_count": null,
   "metadata": {},
   "outputs": [],
   "source": []
  },
  {
   "cell_type": "code",
   "execution_count": 97,
   "metadata": {},
   "outputs": [
    {
     "data": {
      "image/png": "[encoded data removed]",
      "text/plain": [
       "<Figure size 432x288 with 1 Axes>"
      ]
     },
     "metadata": {
      "needs_background": "light"
     },
     "output_type": "display_data"
    },
    {
     "data": {
      "image/png": "[encoded data removed]",
      "text/plain": [
       "<Figure size 432x288 with 1 Axes>"
      ]
     },
     "metadata": {
      "needs_background": "light"
     },
     "output_type": "display_data"
    }
   ],
   "source": [
    "plt.hist(proba)\n",
    "plt.show()\n",
    "plt.hist(preds)\n",
    "plt.show()\n",
    "plt.hist(labels)\n",
    "plt.show()"
   ]
  },
  {
   "cell_type": "code",
   "execution_count": null,
   "metadata": {},
   "outputs": [],
   "source": []
  },
  {
   "cell_type": "code",
   "execution_count": null,
   "metadata": {},
   "outputs": [],
   "source": []
  },
  {
   "cell_type": "markdown",
   "metadata": {},
   "source": [
    "## Calibrate the Model Probabilities"
   ]
  },
  {
   "cell_type": "code",
   "execution_count": 98,
   "metadata": {},
   "outputs": [],
   "source": [
    "clf = calibration.CalibratedClassifierCV(base_estimator=model, method='isotonic', cv='prefit')"
   ]
  },
  {
   "cell_type": "code",
   "execution_count": 99,
   "metadata": {},
   "outputs": [
    {
     "data": {
      "text/plain": [
       "CalibratedClassifierCV(base_estimator=RandomForestClassifier(bootstrap=True, class_weight=None, criterion='gini',\n",
       "            max_depth=10, max_features='auto', max_leaf_nodes=None,\n",
       "            min_impurity_decrease=0.0, min_impurity_split=None,\n",
       "            min_samples_leaf=1, min_samples_split=2,\n",
       "            min_weight_fraction_leaf=0.0, n_estimators=100, n_jobs=None,\n",
       "            oob_score=False, random_state=None, verbose=0,\n",
       "            warm_start=False),\n",
       "            cv='prefit', method='isotonic')"
      ]
     },
     "execution_count": 99,
     "metadata": {},
     "output_type": "execute_result"
    }
   ],
   "source": [
    "clf.fit(cal_data, labels)"
   ]
  },
  {
   "cell_type": "code",
   "execution_count": 100,
   "metadata": {},
   "outputs": [
    {
     "data": {
      "image/png": "[encoded data removed]",
      "text/plain": [
       "<Figure size 432x288 with 1 Axes>"
      ]
     },
     "metadata": {
      "needs_background": "light"
     },
     "output_type": "display_data"
    }
   ],
   "source": [
    "proba = clf.predict_proba(cal_data)[:,1]\n",
    "preds = clf.predict(cal_data)\n",
    "plot_calibration_curve(labels, proba, n_bins=10)"
   ]
  },
  {
   "cell_type": "code",
   "execution_count": 102,
   "metadata": {},
   "outputs": [
    {
     "data": {
      "image/png": "[encoded data removed]",
      "text/plain": [
       "<Figure size 432x288 with 1 Axes>"
      ]
     },
     "metadata": {
      "needs_background": "light"
     },
     "output_type": "display_data"
    },
    {
     "data": {
      "image/png": "[encoded data removed]",
      "text/plain": [
       "<Figure size 432x288 with 1 Axes>"
      ]
     },
     "metadata": {
      "needs_background": "light"
     },
     "output_type": "display_data"
    },
    {
     "data": {
      "image/png": "[encoded data removed]",
      "text/plain": [
       "<Figure size 432x288 with 1 Axes>"
      ]
     },
     "metadata": {
      "needs_background": "light"
     },
     "output_type": "display_data"
    }
   ],
   "source": [
    "plt.hist(proba)\n",
    "plt.show()\n",
    "plt.hist(preds)\n",
    "plt.show()\n",
    "plt.hist(labels)\n",
    "plt.show()"
   ]
  },
  {
   "cell_type": "code",
   "execution_count": null,
   "metadata": {},
   "outputs": [],
   "source": []
  },
  {
   "cell_type": "code",
   "execution_count": 111,
   "metadata": {},
   "outputs": [
    {
     "name": "stderr",
     "output_type": "stream",
     "text": [
      "/Users/dangoldberg/miniconda3/envs/tbj/lib/python3.6/site-packages/pandas/core/indexing.py:362: SettingWithCopyWarning: \n",
      "A value is trying to be set on a copy of a slice from a DataFrame.\n",
      "Try using .loc[row_indexer,col_indexer] = value instead\n",
      "\n",
      "See the caveats in the documentation: http://pandas.pydata.org/pandas-docs/stable/indexing.html#indexing-view-versus-copy\n",
      "  self.obj[key] = _infer_fill_value(value)\n",
      "/Users/dangoldberg/miniconda3/envs/tbj/lib/python3.6/site-packages/pandas/core/indexing.py:543: SettingWithCopyWarning: \n",
      "A value is trying to be set on a copy of a slice from a DataFrame.\n",
      "Try using .loc[row_indexer,col_indexer] = value instead\n",
      "\n",
      "See the caveats in the documentation: http://pandas.pydata.org/pandas-docs/stable/indexing.html#indexing-view-versus-copy\n",
      "  self.obj[item] = s\n"
     ]
    }
   ],
   "source": [
    "\n",
    "data = df[(df['swings'] == 0) & (df['intentball'] == 0)]\n",
    "data.loc[:,'cs_prob'] = proba\n"
   ]
  },
  {
   "cell_type": "code",
   "execution_count": 113,
   "metadata": {},
   "outputs": [],
   "source": [
    "data.to_csv('data_with_cs_prob.csv',index=False)"
   ]
  },
  {
   "cell_type": "code",
   "execution_count": null,
   "metadata": {},
   "outputs": [],
   "source": []
  },
  {
   "cell_type": "markdown",
   "metadata": {},
   "source": [
    "# Apply Generalized Linear Mixed Effects Model"
   ]
  },
  {
   "cell_type": "code",
   "execution_count": 26,
   "metadata": {},
   "outputs": [],
   "source": [
    "import statsmodels.api as sm\n",
    "import statsmodels.formula.api as smf"
   ]
  },
  {
   "cell_type": "code",
   "execution_count": 3,
   "metadata": {},
   "outputs": [],
   "source": [
    "filepath = 'data_with_cs_prob.csv'"
   ]
  },
  {
   "cell_type": "code",
   "execution_count": 4,
   "metadata": {},
   "outputs": [],
   "source": [
    "df = pd.read_csv(filepath)"
   ]
  },
  {
   "cell_type": "code",
   "execution_count": 6,
   "metadata": {},
   "outputs": [
    {
     "data": {
      "text/html": [
       "<div>\n",
       "<style scoped>\n",
       "    .dataframe tbody tr th:only-of-type {\n",
       "        vertical-align: middle;\n",
       "    }\n",
       "\n",
       "    .dataframe tbody tr th {\n",
       "        vertical-align: top;\n",
       "    }\n",
       "\n",
       "    .dataframe thead th {\n",
       "        text-align: right;\n",
       "    }\n",
       "</style>\n",
       "<table border=\"1\" class=\"dataframe\">\n",
       "  <thead>\n",
       "    <tr style=\"text-align: right;\">\n",
       "      <th></th>\n",
       "      <th>parkid</th>\n",
       "      <th>bluejaysgameid</th>\n",
       "      <th>gamepitchsequence</th>\n",
       "      <th>half</th>\n",
       "      <th>balls</th>\n",
       "      <th>strikes</th>\n",
       "      <th>pitcherid</th>\n",
       "      <th>pitcherhand</th>\n",
       "      <th>batterid</th>\n",
       "      <th>batside</th>\n",
       "      <th>...</th>\n",
       "      <th>ball</th>\n",
       "      <th>swings</th>\n",
       "      <th>takes</th>\n",
       "      <th>pitchout</th>\n",
       "      <th>intentball</th>\n",
       "      <th>inplay</th>\n",
       "      <th>pitcheventtype</th>\n",
       "      <th>hbp</th>\n",
       "      <th>ump_hp</th>\n",
       "      <th>cs_prob</th>\n",
       "    </tr>\n",
       "  </thead>\n",
       "  <tbody>\n",
       "    <tr>\n",
       "      <th>0</th>\n",
       "      <td>5</td>\n",
       "      <td>556C80A4-54E3-400E-9AD1-426D5FB679BB</td>\n",
       "      <td>1</td>\n",
       "      <td>0</td>\n",
       "      <td>0</td>\n",
       "      <td>0</td>\n",
       "      <td>11198</td>\n",
       "      <td>R</td>\n",
       "      <td>171109</td>\n",
       "      <td>R</td>\n",
       "      <td>...</td>\n",
       "      <td>1</td>\n",
       "      <td>0</td>\n",
       "      <td>1</td>\n",
       "      <td>0</td>\n",
       "      <td>0</td>\n",
       "      <td>0</td>\n",
       "      <td>ball</td>\n",
       "      <td>0</td>\n",
       "      <td>142393.0</td>\n",
       "      <td>0.445767</td>\n",
       "    </tr>\n",
       "    <tr>\n",
       "      <th>1</th>\n",
       "      <td>5</td>\n",
       "      <td>556C80A4-54E3-400E-9AD1-426D5FB679BB</td>\n",
       "      <td>2</td>\n",
       "      <td>0</td>\n",
       "      <td>1</td>\n",
       "      <td>0</td>\n",
       "      <td>11198</td>\n",
       "      <td>R</td>\n",
       "      <td>171109</td>\n",
       "      <td>R</td>\n",
       "      <td>...</td>\n",
       "      <td>0</td>\n",
       "      <td>0</td>\n",
       "      <td>1</td>\n",
       "      <td>0</td>\n",
       "      <td>0</td>\n",
       "      <td>0</td>\n",
       "      <td>called_strike</td>\n",
       "      <td>0</td>\n",
       "      <td>142393.0</td>\n",
       "      <td>0.808174</td>\n",
       "    </tr>\n",
       "    <tr>\n",
       "      <th>2</th>\n",
       "      <td>5</td>\n",
       "      <td>556C80A4-54E3-400E-9AD1-426D5FB679BB</td>\n",
       "      <td>3</td>\n",
       "      <td>0</td>\n",
       "      <td>1</td>\n",
       "      <td>1</td>\n",
       "      <td>11198</td>\n",
       "      <td>R</td>\n",
       "      <td>171109</td>\n",
       "      <td>R</td>\n",
       "      <td>...</td>\n",
       "      <td>1</td>\n",
       "      <td>0</td>\n",
       "      <td>1</td>\n",
       "      <td>0</td>\n",
       "      <td>0</td>\n",
       "      <td>0</td>\n",
       "      <td>ball</td>\n",
       "      <td>0</td>\n",
       "      <td>142393.0</td>\n",
       "      <td>0.008856</td>\n",
       "    </tr>\n",
       "    <tr>\n",
       "      <th>3</th>\n",
       "      <td>5</td>\n",
       "      <td>556C80A4-54E3-400E-9AD1-426D5FB679BB</td>\n",
       "      <td>6</td>\n",
       "      <td>0</td>\n",
       "      <td>2</td>\n",
       "      <td>2</td>\n",
       "      <td>11198</td>\n",
       "      <td>R</td>\n",
       "      <td>171109</td>\n",
       "      <td>R</td>\n",
       "      <td>...</td>\n",
       "      <td>1</td>\n",
       "      <td>0</td>\n",
       "      <td>1</td>\n",
       "      <td>0</td>\n",
       "      <td>0</td>\n",
       "      <td>0</td>\n",
       "      <td>ball</td>\n",
       "      <td>0</td>\n",
       "      <td>142393.0</td>\n",
       "      <td>0.021135</td>\n",
       "    </tr>\n",
       "    <tr>\n",
       "      <th>4</th>\n",
       "      <td>5</td>\n",
       "      <td>556C80A4-54E3-400E-9AD1-426D5FB679BB</td>\n",
       "      <td>8</td>\n",
       "      <td>0</td>\n",
       "      <td>0</td>\n",
       "      <td>0</td>\n",
       "      <td>11198</td>\n",
       "      <td>R</td>\n",
       "      <td>7327</td>\n",
       "      <td>R</td>\n",
       "      <td>...</td>\n",
       "      <td>1</td>\n",
       "      <td>0</td>\n",
       "      <td>1</td>\n",
       "      <td>0</td>\n",
       "      <td>0</td>\n",
       "      <td>0</td>\n",
       "      <td>ball</td>\n",
       "      <td>0</td>\n",
       "      <td>142393.0</td>\n",
       "      <td>0.865428</td>\n",
       "    </tr>\n",
       "  </tbody>\n",
       "</table>\n",
       "<p>5 rows × 28 columns</p>\n",
       "</div>"
      ],
      "text/plain": [
       "   parkid                        bluejaysgameid  gamepitchsequence  half  \\\n",
       "0       5  556C80A4-54E3-400E-9AD1-426D5FB679BB                  1     0   \n",
       "1       5  556C80A4-54E3-400E-9AD1-426D5FB679BB                  2     0   \n",
       "2       5  556C80A4-54E3-400E-9AD1-426D5FB679BB                  3     0   \n",
       "3       5  556C80A4-54E3-400E-9AD1-426D5FB679BB                  6     0   \n",
       "4       5  556C80A4-54E3-400E-9AD1-426D5FB679BB                  8     0   \n",
       "\n",
       "   balls  strikes  pitcherid pitcherhand  batterid batside    ...     ball  \\\n",
       "0      0        0      11198           R    171109       R    ...        1   \n",
       "1      1        0      11198           R    171109       R    ...        0   \n",
       "2      1        1      11198           R    171109       R    ...        1   \n",
       "3      2        2      11198           R    171109       R    ...        1   \n",
       "4      0        0      11198           R      7327       R    ...        1   \n",
       "\n",
       "  swings  takes  pitchout  intentball  inplay  pitcheventtype  hbp    ump_hp  \\\n",
       "0      0      1         0           0       0            ball    0  142393.0   \n",
       "1      0      1         0           0       0   called_strike    0  142393.0   \n",
       "2      0      1         0           0       0            ball    0  142393.0   \n",
       "3      0      1         0           0       0            ball    0  142393.0   \n",
       "4      0      1         0           0       0            ball    0  142393.0   \n",
       "\n",
       "    cs_prob  \n",
       "0  0.445767  \n",
       "1  0.808174  \n",
       "2  0.008856  \n",
       "3  0.021135  \n",
       "4  0.865428  \n",
       "\n",
       "[5 rows x 28 columns]"
      ]
     },
     "execution_count": 6,
     "metadata": {},
     "output_type": "execute_result"
    }
   ],
   "source": [
    "df[:5]"
   ]
  },
  {
   "cell_type": "code",
   "execution_count": 55,
   "metadata": {},
   "outputs": [
    {
     "name": "stdout",
     "output_type": "stream",
     "text": [
      "<class 'pandas.core.frame.DataFrame'>\n",
      "RangeIndex: 182944 entries, 0 to 182943\n",
      "Data columns (total 28 columns):\n",
      "parkid               182944 non-null int64\n",
      "bluejaysgameid       182944 non-null object\n",
      "gamepitchsequence    182944 non-null int64\n",
      "half                 182944 non-null int64\n",
      "balls                182944 non-null int64\n",
      "strikes              182944 non-null int64\n",
      "pitcherid            182944 non-null int64\n",
      "pitcherhand          182944 non-null object\n",
      "batterid             182944 non-null int64\n",
      "batside              182944 non-null object\n",
      "catcherid            182944 non-null int64\n",
      "pitchtype            182944 non-null object\n",
      "relspeed             182944 non-null float64\n",
      "hbreak               182944 non-null float64\n",
      "vbreak               182944 non-null float64\n",
      "plate_x              182944 non-null float64\n",
      "plate_z              182944 non-null float64\n",
      "calledstrike         182944 non-null int64\n",
      "ball                 182944 non-null int64\n",
      "swings               182944 non-null int64\n",
      "takes                182944 non-null int64\n",
      "pitchout             182944 non-null int64\n",
      "intentball           182944 non-null int64\n",
      "inplay               182944 non-null int64\n",
      "pitcheventtype       182944 non-null object\n",
      "hbp                  182944 non-null int64\n",
      "ump_hp               182944 non-null float64\n",
      "cs_prob              182944 non-null float64\n",
      "dtypes: float64(7), int64(16), object(5)\n",
      "memory usage: 39.1+ MB\n"
     ]
    }
   ],
   "source": [
    "df.info()"
   ]
  },
  {
   "cell_type": "code",
   "execution_count": 28,
   "metadata": {},
   "outputs": [],
   "source": [
    "import statsmodels"
   ]
  },
  {
   "cell_type": "code",
   "execution_count": 124,
   "metadata": {},
   "outputs": [],
   "source": [
    "random = {\n",
    "    'parkid':'C(parkid)',\n",
    "    'ump_hp':'C(ump_hp)',\n",
    "    'pitcherid':'C(pitcherid)',\n",
    "    'batterid':'C(batterid)',\n",
    "    'catcherid':'C(catcherid)',\n",
    "    'catcherid:cs_prob':'C(catcherid):cs_prob'\n",
    "}\n",
    "model = sm.BinomialBayesMixedGLM.from_formula('calledstrike ~ cs_prob + C(half)', random, df)\n",
    "\n",
    "# change to probit link function\n",
    "\n",
    "link = statsmodels.genmod.families.links.probit()\n",
    "family = sm.genmod.families.family.Binomial(link=link)\n",
    "\n",
    "model.family = family"
   ]
  },
  {
   "cell_type": "code",
   "execution_count": null,
   "metadata": {},
   "outputs": [],
   "source": [
    "model_fitted = model.fit_vb()"
   ]
  },
  {
   "cell_type": "code",
   "execution_count": null,
   "metadata": {},
   "outputs": [],
   "source": [
    "print(model_fitted.summary())"
   ]
  },
  {
   "cell_type": "code",
   "execution_count": 118,
   "metadata": {},
   "outputs": [
    {
     "name": "stderr",
     "output_type": "stream",
     "text": [
      "/Users/dangoldberg/miniconda3/envs/tbj/lib/python3.6/site-packages/matplotlib/figure.py:445: UserWarning: Matplotlib is currently using module://ipykernel.pylab.backend_inline, which is a non-GUI backend, so cannot show the figure.\n",
      "  % get_backend())\n"
     ]
    },
    {
     "data": {
      "image/png": "[encoded data removed]",
      "text/plain": [
       "<Figure size 1440x720 with 1 Axes>"
      ]
     },
     "metadata": {
      "needs_background": "light"
     },
     "output_type": "display_data"
    }
   ],
   "source": [
    "def get_random_effect_factors(effect, random):\n",
    "    factors = [col for col in model_fitted.random_effects().index if random[effect] in col]\n",
    "    return model_fitted.random_effects().loc[factors,['Mean','SD']]\n",
    "\n",
    "\n",
    "def plot_effect_factors(effect, random):\n",
    "    \n",
    "    factors = get_random_effect_factors(effect, random)\n",
    "    mean = factors.sort_values('Mean', ascending=False)['Mean']\n",
    "    std = factors.sort_values('Mean', ascending=False)['SD']\n",
    "\n",
    "    fig = plt.figure(figsize=(20,10))\n",
    "    ax = fig.add_axes([0., 0., 1.4, 1.4, ])\n",
    "    ax.bar(np.arange(len(mean)), mean, yerr=std)\n",
    "    ax.set_ylabel('coeffs')\n",
    "    ax.set_title('Random Effects - {}'.format(effect), fontdict={'fontsize':30})\n",
    "    ax.set_xticks(np.arange(len(mean)))\n",
    "    ax.set_xticklabels(get_random_effect_factors(effect, random).sort_values('Mean', ascending=False).index, fontdict={'rotation':45})\n",
    "\n",
    "    fig.show()\n",
    "    \n",
    "plot_effect_factors('ump_hp', random)"
   ]
  },
  {
   "cell_type": "code",
   "execution_count": 121,
   "metadata": {},
   "outputs": [
    {
     "data": {
      "text/html": [
       "<div>\n",
       "<style scoped>\n",
       "    .dataframe tbody tr th:only-of-type {\n",
       "        vertical-align: middle;\n",
       "    }\n",
       "\n",
       "    .dataframe tbody tr th {\n",
       "        vertical-align: top;\n",
       "    }\n",
       "\n",
       "    .dataframe thead th {\n",
       "        text-align: right;\n",
       "    }\n",
       "</style>\n",
       "<table border=\"1\" class=\"dataframe\">\n",
       "  <thead>\n",
       "    <tr style=\"text-align: right;\">\n",
       "      <th></th>\n",
       "      <th>Mean</th>\n",
       "      <th>SD</th>\n",
       "    </tr>\n",
       "  </thead>\n",
       "  <tbody>\n",
       "    <tr>\n",
       "      <th>C(pitcherhand)[T.R]</th>\n",
       "      <td>0.053313</td>\n",
       "      <td>0.008929</td>\n",
       "    </tr>\n",
       "  </tbody>\n",
       "</table>\n",
       "</div>"
      ],
      "text/plain": [
       "                         Mean        SD\n",
       "C(pitcherhand)[T.R]  0.053313  0.008929"
      ]
     },
     "execution_count": 121,
     "metadata": {},
     "output_type": "execute_result"
    }
   ],
   "source": [
    "get_random_effect_factors('pitcherhand', random).sort_values('SD',ascending=False)"
   ]
  },
  {
   "cell_type": "code",
   "execution_count": null,
   "metadata": {},
   "outputs": [],
   "source": [
    "fixed effects = model_fitted.params[:3]"
   ]
  },
  {
   "cell_type": "code",
   "execution_count": null,
   "metadata": {},
   "outputs": [],
   "source": []
  }
 ],
 "metadata": {
  "kernelspec": {
   "display_name": "Python [conda env:tbj]",
   "language": "python",
   "name": "conda-env-tbj-py"
  },
  "language_info": {
   "codemirror_mode": {
    "name": "ipython",
    "version": 3
   },
   "file_extension": ".py",
   "mimetype": "text/x-python",
   "name": "python",
   "nbconvert_exporter": "python",
   "pygments_lexer": "ipython3",
   "version": "3.6.7"
  }
 },
 "nbformat": 4,
 "nbformat_minor": 2
}
